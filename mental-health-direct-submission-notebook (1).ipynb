{
 "cells": [
  {
   "cell_type": "code",
   "execution_count": 1,
   "metadata": {
    "_cell_guid": "b1076dfc-b9ad-4769-8c92-a6c4dae69d19",
    "_uuid": "8f2839f25d086af736a60e9eeb907d3b93b6e0e5",
    "execution": {
     "iopub.execute_input": "2024-11-08T16:55:43.581754Z",
     "iopub.status.busy": "2024-11-08T16:55:43.581180Z",
     "iopub.status.idle": "2024-11-08T16:55:43.591031Z",
     "shell.execute_reply": "2024-11-08T16:55:43.589640Z",
     "shell.execute_reply.started": "2024-11-08T16:55:43.581699Z"
    },
    "trusted": true
   },
   "outputs": [
    {
     "name": "stderr",
     "output_type": "stream",
     "text": [
      "c:\\Users\\Weavedis\\Miniconda3\\envs\\myenv\\lib\\site-packages\\tqdm\\auto.py:21: TqdmWarning: IProgress not found. Please update jupyter and ipywidgets. See https://ipywidgets.readthedocs.io/en/stable/user_install.html\n",
      "  from .autonotebook import tqdm as notebook_tqdm\n"
     ]
    }
   ],
   "source": [
    "#Import Dependencies\n",
    "\n",
    "import pandas as pd\n",
    "\n",
    "import numpy as np\n",
    "\n",
    "from catboost import CatBoostClassifier\n",
    "\n",
    "from sklearn.model_selection import StratifiedKFold,  cross_val_score\n",
    "\n",
    "from sklearn.metrics import accuracy_score, log_loss\n",
    "\n",
    "from scipy.stats import mode\n",
    "\n",
    "from sklearn.base import BaseEstimator, ClassifierMixin\n",
    "\n",
    "from sklearn.calibration import CalibratedClassifierCV\n",
    "\n",
    "import optuna\n",
    "\n",
    "import warnings\n",
    "\n",
    "warnings.filterwarnings(\"ignore\")"
   ]
  },
  {
   "cell_type": "code",
   "execution_count": null,
   "metadata": {
    "execution": {
     "iopub.execute_input": "2024-11-08T16:55:43.595074Z",
     "iopub.status.busy": "2024-11-08T16:55:43.593616Z",
     "iopub.status.idle": "2024-11-08T16:55:44.455607Z",
     "shell.execute_reply": "2024-11-08T16:55:44.454058Z",
     "shell.execute_reply.started": "2024-11-08T16:55:43.595021Z"
    },
    "trusted": true
   },
   "outputs": [],
   "source": [
    "#Read In our Data\n",
    "\n",
    "train = pd.read_csv(r'PATH', index_col='id')\n",
    "\n",
    "test = pd.read_csv(r'PATH', index_col='id')\n",
    "\n",
    "ogdata = pd.read_csv(r'PATH')"
   ]
  },
  {
   "cell_type": "code",
   "execution_count": 3,
   "metadata": {},
   "outputs": [],
   "source": [
    "#add our ogdata to our training data encoding the Yes and No depression values to 1 and 0 respectively\n",
    "ogdata['Depression'] = ogdata['Depression'].map({'Yes': 1, 'No': 0})\n",
    "train = pd.concat([train, ogdata], ignore_index=True)"
   ]
  },
  {
   "cell_type": "code",
   "execution_count": null,
   "metadata": {
    "execution": {
     "iopub.execute_input": "2024-11-08T16:55:44.457836Z",
     "iopub.status.busy": "2024-11-08T16:55:44.457292Z",
     "iopub.status.idle": "2024-11-08T16:55:44.481090Z",
     "shell.execute_reply": "2024-11-08T16:55:44.479191Z",
     "shell.execute_reply.started": "2024-11-08T16:55:44.457752Z"
    },
    "trusted": true
   },
   "outputs": [],
   "source": [
    "#Assign our x and y\n",
    "\n",
    "y = train[\"Depression\"]\n",
    "\n",
    "y = y.astype(int) \n",
    "\n",
    "x = train.drop([\"Depression\"], axis=1)"
   ]
  },
  {
   "cell_type": "code",
   "execution_count": 5,
   "metadata": {},
   "outputs": [],
   "source": [
    "#Clean Degree data\n",
    "def clean_degree(value):\n",
    "    # Degree mapping for common variations\n",
    "    degree_mapping = {\n",
    "        'B.Pharm': ['BPharm', 'P.Pharm', 'B. Pharm', 'S.Pharm', \"H_Pharm\", 'N.Pharm'],\n",
    "        'B.Sc': ['BSc', 'B.Sc', 'B.Student'],\n",
    "        'B.Tech': ['BTech', 'B.Tech', 'B B.Tech', 'S.Tech', 'E.Tech', 'LLTech'],\n",
    "        'M.Tech': ['MTech', 'M.Tech', 'M_Tech'],\n",
    "        'MBA': ['M. Business Analyst'],\n",
    "        'B.Arch': ['B.B.Arch', 'B.Arch', 'B. Architecture', 'BArch', 'S.Arch'],\n",
    "        'M.Arch': ['M.Arch'],\n",
    "        'MBBS': ['MBBS'],\n",
    "        'M.Pharm': ['MPharm', 'M.Pharm'],\n",
    "        'PhD': ['PhD'],\n",
    "        'Class 12': ['Class 12'],\n",
    "        'Class 11': ['Class 11'],\n",
    "        'M.A.': ['MA'],\n",
    "        'M.Sc': ['M.S', 'MSc'],\n",
    "        'B.Com': ['B.Com', \"B B.Com\", 'LLCom', 'LL.Com', 'B_Com'],\n",
    "        'M.Com': ['M.Com', 'B.M.Com', 'P.Com'],\n",
    "        'LLB': ['LLB', 'LLBA'],\n",
    "        'BCA': ['B.CA', 'BCA', 'B BCA'],\n",
    "        'BBA': ['BBA', 'B.BA', \"BBA\", 'B BA', 'BA'],\n",
    "        'BHM': ['BHM', 'B.H', \"BH\"],\n",
    "        'MHM': ['MHM', 'LHM'],\n",
    "        'B.Ed': ['BEd', 'B.Ed.', 'B. Ed'],\n",
    "        'M.Ed': ['M.Ed', 'M.M.Ed', 'MEd'],\n",
    "        'LL B.Ed': ['LL B.Ed', 'LLEd', \"L.Ed\"],\n",
    "        'M.B.Ed': ['M.B.Ed'],\n",
    "        'MCA': ['MCA'],\n",
    "        'MD' : ['MD'],\n",
    "        'ME' : ['ME'],\n",
    "        'BE' : ['BE'],\n",
    "        'MBA' : ['MBA'],\n",
    "        'LLM' : ['LLM'],\n",
    "        'MPA' : ['MPA'],\n",
    "        'BHCA' : ['BHCA'],\n",
    "        'BPA' : ['BPA'],\n",
    "        'Doctor' : ['Doctor'],\n",
    "        'B. Gender' : ['B. Gender'],\n",
    "        'Mechanical Engineer' : ['Mechanical Engineer'],\n",
    "        'M.UI' : ['M.UI'],\n",
    "        'B.Press' : ['B.Press'],\n",
    "        'General Ed' : ['E.Ed', 'G.Ed', 'J.Ed', 'K.Ed', 'I.Ed', 'A.Ed'],\n",
    "        'xCA' : ['RCA', 'GCA', 'PCA', 'LCA', 'ACA'],\n",
    "        'LLS' : ['LLS'],\n",
    "        'BB' : ['BB']\n",
    "    }\n",
    "    \n",
    "            \n",
    "    for key, values in degree_mapping.items():\n",
    "        if value in values:\n",
    "            return key\n",
    "    return np.nan  # Set to NaN if not in clean categories"
   ]
  },
  {
   "cell_type": "code",
   "execution_count": 6,
   "metadata": {},
   "outputs": [],
   "source": [
    "#Add Identifier Column to group bachelors together, masters together, etc after degree cleaning has been done\n",
    "def map_degree_level(degree):\n",
    "    degree_level_mapping = {\n",
    "        'Bachelors': ['B.Pharm', 'B.Sc', 'B.Tech', 'B.Arch', 'B.Com', 'BBA', 'BCA', 'BHM', 'B.Ed', 'BPA', 'BH', 'B. Gender', 'BB', 'BE', 'BHCA', 'B.Press', 'Mechanical Engineer'],\n",
    "        'Masters': ['M.Tech', 'MBA', 'M.Arch', 'M.Sc', 'M.Com', 'M.Pharm', 'M.Ed', 'MCA', 'MHM', 'M.B.Ed', 'MPA', 'MD', 'ME', 'MBA', 'M.UI', 'MBBS', 'M.A.'],\n",
    "        'Doctorate': ['PhD', 'Doctor'],\n",
    "        'High School' : ['Class 12', 'Class 11'],\n",
    "        'Random CA' : ['xCA'],\n",
    "        'General Ed' : ['General Ed'],\n",
    "        'Law' : ['LLS', 'LLB', 'LLM', 'LL B.Ed'],\n",
    "    }\n",
    "    if degree in degree_level_mapping['Bachelors']:\n",
    "        return 'Bachelors'\n",
    "    elif degree in degree_level_mapping['Masters']:\n",
    "        return 'Masters'\n",
    "    elif degree in degree_level_mapping['Doctorate']:\n",
    "        return 'Doctorate'\n",
    "    elif degree in degree_level_mapping['High School']:\n",
    "        return 'High School'\n",
    "    elif degree in degree_level_mapping['Random CA']:\n",
    "        return 'Random CA'\n",
    "    elif degree in degree_level_mapping['General Ed']:\n",
    "        return 'General Ed'\n",
    "    elif degree in degree_level_mapping['Law']:\n",
    "        return 'Law'\n",
    "    else:\n",
    "        return \"No Higher ED\""
   ]
  },
  {
   "cell_type": "code",
   "execution_count": 7,
   "metadata": {},
   "outputs": [],
   "source": [
    "#Transform Sleep data to a continuous numerical\n",
    "def transform_sleep_duration(value):\n",
    "    if value in [\"2-3 hours\", \"3-4 hours\", \"4-5 hours\", \"1-2 hours\", \"1-3 hours\", \"1-6 hours\", \"3-6 Hours\", '3-6 hours', '5-6 hours', \"4-6 hours\", \"6-7 hours\", \"7-8 hours\", \"6-8 hours\", '9-5', '9-5 Hours', '9-5 hours', \"10-11 hours\", \"9-11 hours\", \"8-9 hours\", \"9-10 hours\", \"9-6 hours\", \"10-6 hours\"]:\n",
    "        return abs(int(value.split(\"-\")[0]) + int(value.split(\"-\")[1].replace(\" hours\", \"\")) / 2)\n",
    "    elif value in ['6 hours']:\n",
    "        return 6\n",
    "    elif value in [\"Less than 5 hours\"]: \n",
    "        return 4\n",
    "    elif value in [\"7 hours\"]:\n",
    "        return 7\n",
    "    elif value in [\"8 hours\"]:\n",
    "        return 8\n",
    "    elif value in [\"More than 8 hours\"]:\n",
    "        return 9\n",
    "    elif value in ['8-89 hours']:\n",
    "        return 8.5\n",
    "    elif value in ['More than 8 hours']: \n",
    "        return 9\n",
    "    else:\n",
    "        return np.nan  # Non-relevant entries set to NaN\n"
   ]
  },
  {
   "cell_type": "code",
   "execution_count": 8,
   "metadata": {},
   "outputs": [],
   "source": [
    "#Clean Profession Column\n",
    "def clean_profession(value):\n",
    "    cols_profession_to_delete = [\"Simran\", \"Name\", \"No\", \"24th\", \"Unhealthy\", \"Yuvraj\", \"Yogesh\", \"Patna\", \"Nagpur\", \"Pranav\", \"Visakhapatnam\", \"Moderate\", \"Manvi\", \"Samar\", \"Surat\", 'nan']\n",
    "    remap_dict = {\n",
    "        'Analyst': ['Finanancial Analyst', 'Analyst', 'Financial Analyst', 'Business Analyst', 'Research Analyst', 'Data Scientist'],\n",
    "    }\n",
    "    for key, values in remap_dict.items():\n",
    "        if value in values:\n",
    "            return key\n",
    "    return np.nan if value in cols_profession_to_delete else value"
   ]
  },
  {
   "cell_type": "code",
   "execution_count": 9,
   "metadata": {
    "execution": {
     "iopub.execute_input": "2024-11-08T16:55:44.485615Z",
     "iopub.status.busy": "2024-11-08T16:55:44.485063Z",
     "iopub.status.idle": "2024-11-08T16:55:44.497951Z",
     "shell.execute_reply": "2024-11-08T16:55:44.496346Z",
     "shell.execute_reply.started": "2024-11-08T16:55:44.485558Z"
    },
    "trusted": true
   },
   "outputs": [],
   "source": [
    "#Function For preprocessing a dataframe (Right Now Testing If Name Should be Removed or Not, uncomment name part and remove from cat to remove)\n",
    "\n",
    "def preprocessing(df):\n",
    "\n",
    "    if \"Depression\" in df.columns:\n",
    "        df['Depression'] = df['Depression'].map({\"Yes\": 1, \"No\": 0, \"1\": 1, \"0\": 0})\n",
    "    df['Sleep Duration'] = df['Sleep Duration'].apply(transform_sleep_duration)\n",
    "    df['Degree'] = df['Degree'].apply(clean_degree)\n",
    "    df['Degree Level'] = df['Degree'].apply(map_degree_level)\n",
    "    df['Profession'] = df['Profession'].apply(clean_profession)\n",
    "\n",
    "    df = df.fillna(\"Unknown\")\n",
    "\n",
    "\n",
    "\n",
    "    binary_cols = [\n",
    "\n",
    "    'Gender',\n",
    "\n",
    "    'Have you ever had suicidal thoughts ?',\n",
    "\n",
    "    'Working Professional or Student',\n",
    "\n",
    "    'Family History of Mental Illness'\n",
    "\n",
    "    ]\n",
    "\n",
    "    for col in binary_cols:\n",
    "\n",
    "        df[col] = df[col].astype('category').cat.codes\n",
    "\n",
    "\n",
    "    numeric_cols = [\n",
    "\n",
    "    'CGPA',\n",
    "\n",
    "    'Study Satisfaction',\n",
    "\n",
    "    'Job Satisfaction',\n",
    "\n",
    "    'Work Pressure',\n",
    "\n",
    "    'Academic Pressure',\n",
    "\n",
    "    'Financial Stress',\n",
    "\n",
    "    'Age',\n",
    "\n",
    "    'Work/Study Hours',\n",
    "\n",
    "    'Sleep Duration'\n",
    "\n",
    "    ]\n",
    "    for col in numeric_cols:\n",
    "\n",
    "        df[col] = df[col].astype('category').cat.codes \n",
    "\n",
    "\n",
    "    nominal_cols = [\n",
    "\n",
    "    'City',\n",
    "\n",
    "    'Profession',\n",
    "\n",
    "    'Dietary Habits',\n",
    "\n",
    "    'Degree',\n",
    "\n",
    "    'Name', \n",
    "\n",
    "    'Degree Level'\n",
    "\n",
    "    ]\n",
    "\n",
    "    for col in nominal_cols:\n",
    "\n",
    "        df[col] = df[col].astype('category')\n",
    "\n",
    "\n",
    "    return df"
   ]
  },
  {
   "cell_type": "code",
   "execution_count": 10,
   "metadata": {
    "execution": {
     "iopub.execute_input": "2024-11-08T16:55:44.500275Z",
     "iopub.status.busy": "2024-11-08T16:55:44.499697Z",
     "iopub.status.idle": "2024-11-08T16:55:45.585068Z",
     "shell.execute_reply": "2024-11-08T16:55:45.583627Z",
     "shell.execute_reply.started": "2024-11-08T16:55:44.500218Z"
    },
    "trusted": true
   },
   "outputs": [],
   "source": [
    "#Run preprocessing on our data\n",
    "\n",
    "x = preprocessing(x)\n",
    "\n",
    "test = preprocessing(test)"
   ]
  },
  {
   "cell_type": "code",
   "execution_count": 11,
   "metadata": {
    "execution": {
     "iopub.execute_input": "2024-11-08T16:55:45.587562Z",
     "iopub.status.busy": "2024-11-08T16:55:45.586999Z",
     "iopub.status.idle": "2024-11-08T16:55:45.594609Z",
     "shell.execute_reply": "2024-11-08T16:55:45.592920Z",
     "shell.execute_reply.started": "2024-11-08T16:55:45.587500Z"
    },
    "trusted": true
   },
   "outputs": [],
   "source": [
    "#Section for holding the best parameters\n",
    "\n",
    "bestparams = {\n",
    "\n",
    "    'learning_rate':   0.06941528142896314,  \n",
    "\n",
    "    'depth': 7,            \n",
    "\n",
    "    'l2_leaf_reg': 2.3069172853265654,\n",
    "\n",
    "    'iterations': 1005\n",
    "\n",
    "}"
   ]
  },
  {
   "cell_type": "code",
   "execution_count": 12,
   "metadata": {},
   "outputs": [
    {
     "name": "stdout",
     "output_type": "stream",
     "text": [
      "0.9410495895459875\n"
     ]
    }
   ],
   "source": [
    "cv = StratifiedKFold(n_splits=8, shuffle=True, random_state=11)  \n",
    "cv_splits = cv.split(x , y)\n",
    "\n",
    "scores = []\n",
    "test_preds = []\n",
    "\n",
    "\n",
    "for i, (train_idx, val_idx) in enumerate(cv_splits):\n",
    "\n",
    "    X_train_fold, X_val_fold = x.loc[train_idx], x.loc[val_idx]\n",
    "    y_train_fold, y_val_fold = y.loc[train_idx], y.loc[val_idx]\n",
    "    \n",
    "    \n",
    "    model = CatBoostClassifier(\n",
    "        iterations=1005,  \n",
    "        depth=7,  \n",
    "        learning_rate=0.06941528142896314,  \n",
    "        loss_function='Logloss',  \n",
    "        cat_features=[0,1,3,5,12,13,4,14,17, 18],  \n",
    "        l2_leaf_reg=2.3069172853265654,\n",
    "        eval_metric='Accuracy',\n",
    "        random_state=11\n",
    "    )\n",
    "    \n",
    "    model.fit(X_train_fold, y_train_fold, eval_set=(X_val_fold, y_val_fold), verbose=False)\n",
    "    val_pred = model.predict(X_val_fold)\n",
    "    \n",
    "\n",
    "    score = accuracy_score(y_val_fold, val_pred)\n",
    "    scores.append(score)\n",
    "    \n",
    "\n",
    "    test_pred = model.predict_proba(test)[:, 1]  \n",
    "    test_preds.append(test_pred)\n",
    "print(sum(scores) / len(scores))  \n",
    "predictions = np.mean(test_preds, axis=0)\n",
    "predictions = np.where(predictions > 0.5, 1.0, 0.0)\n",
    "\n"
   ]
  },
  {
   "cell_type": "code",
   "execution_count": 15,
   "metadata": {
    "execution": {
     "iopub.execute_input": "2024-11-08T17:19:21.065422Z",
     "iopub.status.busy": "2024-11-08T17:19:21.064883Z",
     "iopub.status.idle": "2024-11-08T17:19:21.076008Z",
     "shell.execute_reply": "2024-11-08T17:19:21.073850Z",
     "shell.execute_reply.started": "2024-11-08T17:19:21.065364Z"
    },
    "trusted": true
   },
   "outputs": [],
   "source": [
    "#Declare Our Final Model\n",
    "\n",
    "model = CatBoostClassifier(\n",
    "\n",
    "        **bestparams,\n",
    "\n",
    "        eval_metric='Accuracy',\n",
    "\n",
    "        #cat_features=[0,2,4,10,11,12,3,13,16],\n",
    "        cat_features=[0,1,3,5,12,13,4,14,17, 18],\n",
    "\n",
    "        verbose=0,\n",
    "\n",
    "        random_state=11,\n",
    "\n",
    "        loss_function=\"Logloss\"\n",
    "\n",
    "    )"
   ]
  },
  {
   "cell_type": "code",
   "execution_count": 16,
   "metadata": {
    "execution": {
     "iopub.execute_input": "2024-11-08T17:19:21.078219Z",
     "iopub.status.busy": "2024-11-08T17:19:21.077647Z",
     "iopub.status.idle": "2024-11-08T17:19:21.424871Z",
     "shell.execute_reply": "2024-11-08T17:19:21.422050Z",
     "shell.execute_reply.started": "2024-11-08T17:19:21.078146Z"
    },
    "trusted": true
   },
   "outputs": [
    {
     "data": {
      "text/plain": [
       "<catboost.core.CatBoostClassifier at 0x198ced3f670>"
      ]
     },
     "execution_count": 16,
     "metadata": {},
     "output_type": "execute_result"
    }
   ],
   "source": [
    "#Fit Model\n",
    "\n",
    "model.fit(x, y)"
   ]
  },
  {
   "cell_type": "code",
   "execution_count": 17,
   "metadata": {
    "execution": {
     "iopub.status.busy": "2024-11-08T17:19:21.427228Z",
     "iopub.status.idle": "2024-11-08T17:19:21.427791Z",
     "shell.execute_reply": "2024-11-08T17:19:21.427555Z",
     "shell.execute_reply.started": "2024-11-08T17:19:21.427531Z"
    },
    "trusted": true
   },
   "outputs": [],
   "source": [
    "#Get Predictions\n",
    "\n",
    "predictions_prob = model.predict_proba(test)[:, 1]\n",
    "\n",
    "predictions = np.where(predictions_prob > 0.5, 1.0, 0.0)"
   ]
  },
  {
   "cell_type": "code",
   "execution_count": 18,
   "metadata": {
    "execution": {
     "iopub.status.busy": "2024-11-08T17:19:21.429416Z",
     "iopub.status.idle": "2024-11-08T17:19:21.429931Z",
     "shell.execute_reply": "2024-11-08T17:19:21.429706Z",
     "shell.execute_reply.started": "2024-11-08T17:19:21.429684Z"
    },
    "trusted": true
   },
   "outputs": [],
   "source": [
    "#Generate Submission\n",
    "\n",
    "\n",
    "submission = pd.DataFrame({\n",
    "\n",
    "    'id': test.index,  \n",
    "\n",
    "    'Depression': predictions\n",
    "\n",
    "})\n",
    "\n",
    "\n",
    "\n",
    "submission.to_csv('submission.csv', index=False)"
   ]
  }
 ],
 "metadata": {
  "kaggle": {
   "accelerator": "none",
   "dataSources": [
    {
     "databundleVersionId": 10008389,
     "sourceId": 84895,
     "sourceType": "competition"
    },
    {
     "datasetId": 5868381,
     "sourceId": 9616093,
     "sourceType": "datasetVersion"
    }
   ],
   "dockerImageVersionId": 30786,
   "isGpuEnabled": false,
   "isInternetEnabled": true,
   "language": "python",
   "sourceType": "notebook"
  },
  "kernelspec": {
   "display_name": "myenv",
   "language": "python",
   "name": "python3"
  },
  "language_info": {
   "codemirror_mode": {
    "name": "ipython",
    "version": 3
   },
   "file_extension": ".py",
   "mimetype": "text/x-python",
   "name": "python",
   "nbconvert_exporter": "python",
   "pygments_lexer": "ipython3",
   "version": "3.8.20"
  }
 },
 "nbformat": 4,
 "nbformat_minor": 4
}
